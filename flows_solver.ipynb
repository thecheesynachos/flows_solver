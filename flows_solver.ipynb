{
 "cells": [
  {
   "cell_type": "code",
   "execution_count": null,
   "metadata": {},
   "outputs": [],
   "source": [
    "using JuMP, Cbc, PyPlot, Images, FileIO, Statistics"
   ]
  },
  {
   "attachments": {},
   "cell_type": "markdown",
   "metadata": {},
   "source": [
    "# Flows Solver\n",
    "\n",
    "_Last updated: 29 Jul 19_\n",
    "\n",
    "Solver for mobile game Flows. Currently written and checked using Julia 1.0. If you see a problem tell me on GitHub or message me somehow.\n",
    "\n",
    "For those who are unaware, Flows free is a puzzle game where you are given a grid with coloured dots, and you are trying to draw a path connecting the same coloured dots together while not crossing lines and filling all the grid. \n",
    "\n",
    "<img src=\"test1.png\" width=\"20%\">\n",
    "\n",
    "If you have the screenshot of the game itself, can directly feed filepath into `flows_solver` and get the answer.\n",
    "\n",
    "If you have a similar game which is not Flows, you can enter the problem directly into `find_answer` in a matrix form, like \n",
    "```\n",
    "[1 0 0 0 1,\n",
    " 2 0 0 0 3,\n",
    " 0 0 4 0 4,\n",
    " 0 0 0 0 0,\n",
    " 2 5 0 5 3]\n",
    "```\n",
    "\n",
    "The program below is for solving the puzzle and drawing a completed solution. Run all code blocks below then play around at the bottom of page. \n",
    "\n",
    "The solver tries to find solution which fills the entire board. If your solution comes out weird, the problem given might have no solution that fills the entire board (source: experimenting).\n",
    "\n",
    "Due to a bit of code which involves random number generator, code sometimes break. Happens when youre unlucky enough. Run again and it should be fine (Reason: randomising the place where the grid lines are being detected and sometimes it randomises into bad places).\n",
    "\n",
    "Code can also take a bit long (some of the larger grids can take up to half an hour). Not sure if it's the solver (Gurobi takes a bit shorter? But it's not free so I didn't use it here) or that there's something with the code that takes a long time, or nothing can be done. Let me know if you can fix it or something."
   ]
  },
  {
   "cell_type": "markdown",
   "metadata": {},
   "source": [
    "## Functions"
   ]
  },
  {
   "cell_type": "markdown",
   "metadata": {},
   "source": [
    "The function below takes in the problem as a 2-D matrix form (generated from other functions below) and defines the problem mathematically and solves it. This problem is a integer linear program, which is formulated as shown below.\n",
    "\n",
    "### Variables\n",
    "\n",
    "Suppose we have a problem set which is of size $p \\times q$ and there are $c$ different colours.\n",
    "\n",
    "There are two main sets of variables - one for edges, and one for nodes (which are the boxes in the grid). \n",
    "\n",
    "A particular node can be specified by two indices $1 \\leq i \\leq p$ and $1 \\leq j \\leq q$ which tells which row and column the node is in. The variables for the nodes are set to be $a_{ijk}$, where $a_{ijk} = 1$ if node at row $i$ and column $j$ is of colour $k$ (where $1 \\leq k \\leq c$ is the number to represent one of the colours) and is 0 otherwise. They are only allowed to be either 0 or 1. \n",
    "\n",
    "For the edges, we divide them into two sets - edges which runs horizontally, and edges which runs vertically. For the edges which runs horizontally, we assign them two indices $1 \\leq i \\leq p$ and $1 \\leq j \\leq q$ such that the vertex connected to the left of the edge has the same indices as the edge, i.e. an edge connecting nodes (1, 2) and (1, 3) will be given index (1, 2). Variables used for horizontal edges are assigned as $h_{ijk}$, where $h_{ijk} = 1$ if edge ($i$, $j$) is painted colour $k$, and is 0 otherwise. Vertical edges can be defined in a similar manner but instead using variables $v_{ijk}$. Again, both $h_{ijk}$ and $v_{ijk}$ can only be either 0 or 1.\n",
    "\n",
    "### Constraints\n",
    "\n",
    "For notation purposes, we let $[1,x]$ represent a range of number, i.e. $ \\{ 1, 2, ..., x \\}$. \n",
    "\n",
    "The list of constraints are as follows.\n",
    "\n",
    "- An edge can only be painted at most one colour (they can also not be painted as well).\n",
    "\n",
    "$$ \\sum_{k} v_{ijk} \\leq 1 \\quad \\forall i \\in [1,p], \\forall j \\in [1,q], \\forall k \\in [1,c]$$\n",
    "\n",
    "$$ \\sum_{k} h_{ijk} \\leq 1 \\quad \\forall i \\in [1,p], \\forall j \\in [1,q], \\forall k \\in [1,c]$$\n",
    "\n",
    "- A node must be painted exactly one colour (as the game specifies that all of the boxes have a line dragged through).\n",
    "\n",
    "$$ \\sum_{k} a_{ijk} = 1 \\quad \\forall i \\in [1,p], \\forall j \\in [1,q], \\forall k \\in [1,c]$$\n",
    "\n",
    "- An edge can only be painted a certain colour if the two nodes connected to that edge are both that colour (however if two nodes adjacent to each other are of the same colour they might not have an edge connected between it).\n",
    "\n",
    "$$ 2 v_{ijk} \\leq a_{ijk} + a_{(i+1)jk} \\quad \\forall i \\in [1,p], \\forall j \\in [1,q], \\forall k \\in [1,c] $$\n",
    "\n",
    "$$ 2 h_{ijk} \\leq a_{ijk} + a_{i(j+1)k} \\quad \\forall i \\in [1,p], \\forall j \\in [1,q], \\forall k \\in [1,c] $$\n",
    "\n",
    "- If a node has no fixed colour, when it is assigned a colour (i.e. a line is drawn through the node), two of the edges connected to it must be painted that colour.\n",
    "\n",
    "$$ 2 * a_{ijk} = h_{ijk} + h_{(i-1)jk} + v_{ijk} + v_{i(j-1)k} \\quad \\forall i \\in [1,p], \\forall j \\in [1,q], \\forall k \\in [1,c] $$\n",
    "\n",
    "- If a node has a fixed colour (one of the given starting points), then the node has a specified colour. Additionally, only one edge leaving the node can be painted that colour. If the starting node is painted colour $k'$, then the constraints are given as\n",
    "\n",
    "$$ a_{ijk'} = 1,  \\quad h_{ijk'} + h_{(i-1)jk'} + v_{ijk'} + v_{i(j-1)k'} = 1, \\quad \\forall i \\in [1,p], \\forall j \\in [1,q] $$\n",
    "\n",
    "Note that in the last three constraints there may be cases where the index is out of range (i.e. when dealing with the edge of the puzzle grid). This can be fixed by adding \"ghost\" edges and \"ghost\" nodes which are all set to zero, but will also be a part of the summation so the computer stays happy.\n",
    "\n",
    "### Objective\n",
    "\n",
    "This is chosen arbitrarily as this problem only requires a solution, so any feasible answer will be fine. Additionally, there is no suitable measurement of which answer is better than another (as often there will only be one answer to a problem anyway). In case that there are more than one answer in a case, we use the objective as to maximise $\\sum_{i, j, k} a_{ijk}$ so that we ensure as much of the grid gets filled - ideally all of it gets filled (I'm 90% sure it doesn't actually matter)"
   ]
  },
  {
   "cell_type": "code",
   "execution_count": 60,
   "metadata": {},
   "outputs": [
    {
     "data": {
      "text/plain": [
       "find_answer (generic function with 1 method)"
      ]
     },
     "execution_count": 60,
     "metadata": {},
     "output_type": "execute_result"
    }
   ],
   "source": [
    "# input: array with all the given dots (each number represents the colours) and number of colours\n",
    "# output: solved flows problem\n",
    "function find_answer(array)\n",
    "    \n",
    "    m = Model(with_optimizer(Cbc.Optimizer, logLevel=0)) \n",
    "    xsize, ysize = size(array)\n",
    "    n = Int8(findmax(array)[1])\n",
    "    \n",
    "    # variable to control the colours of each blocks (and constraints)\n",
    "    @variable(m, ans[0:xsize+1,0:ysize+1,1:n], Bin)\n",
    "    @constraint(m, [i=0:xsize+1,k=1:n], ans[i,0,k] == 0)\n",
    "    @constraint(m, [i=0:xsize+1,k=1:n], ans[i,ysize+1,k] == 0)\n",
    "    @constraint(m, [j=0:ysize+1,k=1:n], ans[0,j,k] == 0)\n",
    "    @constraint(m, [j=0:ysize+1,k=1:n], ans[xsize+1,j,k] == 0)\n",
    "    \n",
    "    # only one colour in each square\n",
    "    @constraint(m, [i=1:xsize, j=1:ysize], sum(ans[i,j,:]) == 1)\n",
    "    \n",
    "    # variable for edges between each nodes (one variable for edge between two points and which colour)\n",
    "    @variable(m, hedges[0:xsize,0:ysize+1,1:n], Bin)\n",
    "    @variable(m, vedges[0:xsize+1,0:ysize,1:n], Bin)\n",
    "    @constraint(m, [j=0:ysize+1,k=1:n], hedges[0,j,k] == 0)\n",
    "    @constraint(m, [j=0:ysize+1,k=1:n], hedges[xsize,j,k] == 0)\n",
    "    @constraint(m, [i=0:xsize+1,k=1:n], vedges[i,0,k] == 0)\n",
    "    @constraint(m, [i=0:xsize+1,k=1:n], vedges[i,ysize,k] == 0)\n",
    "    \n",
    "    # each edges can only be there if colours are the same\n",
    "    @constraint(m, [i=0:xsize,j=0:ysize+1,k=1:n], ans[i,j,k] + ans[i+1,j,k] >= 2*hedges[i,j,k])\n",
    "    @constraint(m, [i=0:xsize+1,j=0:ysize,k=1:n], ans[i,j,k] + ans[i,j+1,k] >= 2*vedges[i,j,k])\n",
    "    \n",
    "    # at most one of the edges is filled for each colour\n",
    "    @constraint(m, [i=1:xsize-1,j=1:ysize], sum(hedges[i,j,:]) <= 1)\n",
    "    @constraint(m, [i=1:xsize,j=1:ysize-1], sum(vedges[i,j,:]) <= 1)\n",
    "    \n",
    "    # fix the given points in place\n",
    "    # and fix the number of edges through each of the points\n",
    "    for i in 1:xsize\n",
    "        for j in 1:ysize\n",
    "            if array[i,j] != 0\n",
    "                co = array[i,j]\n",
    "                @constraint(m, ans[i,j,co] == 1)\n",
    "                @constraint(m, hedges[i-1,j,co] + hedges[i,j,co] + vedges[i,j-1,co] + vedges[i,j,co] == 1)\n",
    "            else\n",
    "                @constraint(m, [k=1:n], hedges[i-1,j,k]+hedges[i,j,k]+vedges[i,j-1,k]+vedges[i,j,k] == 2*ans[i,j,k])\n",
    "            end\n",
    "        end\n",
    "    end\n",
    "    \n",
    "    @objective(m, Max, sum(ans))\n",
    "    optimize!(m)\n",
    "    \n",
    "    ans_array = JuMP.value.(ans)\n",
    "    hedges_ans = JuMP.value.(hedges)\n",
    "    vedges_ans = JuMP.value.(vedges)\n",
    "    final_answer = zeros(Int8, xsize, ysize)\n",
    "    for x in 1:xsize\n",
    "        for y in 1:ysize\n",
    "            for c in 1:n\n",
    "                if ans_array[x,y,c] == 1\n",
    "                    final_answer[x,y] = c\n",
    "                end\n",
    "            end\n",
    "        end\n",
    "    end\n",
    "    \n",
    "    return final_answer, hedges_ans, vedges_ans\n",
    "    \n",
    "end"
   ]
  },
  {
   "cell_type": "markdown",
   "metadata": {},
   "source": [
    "The function below are to detect the board from a screenshot of the game using image processing packages. It detects the grid lines to find size of the puzzle. It returns the coordinates of the rows and columns of game board.\n",
    "\n",
    "Note that they will sometimes run into a problem, which may require another run of the same code (as it uses a random number generator in there - future fix?)"
   ]
  },
  {
   "cell_type": "code",
   "execution_count": 9,
   "metadata": {},
   "outputs": [
    {
     "data": {
      "text/plain": [
       "detect_board (generic function with 2 methods)"
      ]
     },
     "execution_count": 9,
     "metadata": {},
     "output_type": "execute_result"
    }
   ],
   "source": [
    "function detect_board(img,thr=0.1)\n",
    "    \n",
    "    grad_y, grad_x, mag, orient = imedge(img)\n",
    "    sy, sx = size(img)\n",
    "    \n",
    "    edges_mat = Array(channelview(mag));\n",
    "    \n",
    "    # randomly scan one of the columns, and find where the edges are\n",
    "    # the boundaries should have edges at a constant place each time, so select those places\n",
    "    # scan a couple of times\n",
    "    row_loop = 0\n",
    "    rows = Set(1:sy)\n",
    "    while row_loop < 5\n",
    "        \n",
    "        test_col = rand(floor(Int,sx*0.2):floor(Int,sx*0.8))\n",
    "        # if overall edge magnitude here too high then we know that we are on top of a line, so change sample\n",
    "        if mean(edges_mat[:,test_col]) >= 0.2\n",
    "            continue\n",
    "        end\n",
    "        \n",
    "        pot_rows = []\n",
    "        rising = false\n",
    "        for i in 1:sy\n",
    "            if edges_mat[i,test_col] > thr && !rising && ((length(pot_rows) == 0) || (i - last(pot_rows) > 4))\n",
    "                push!(pot_rows,i)\n",
    "                rising = true\n",
    "            elseif edges_mat[i,test_col] <= thr && rising\n",
    "                rising = false\n",
    "            end\n",
    "        end\n",
    "        rows = intersect(rows,pot_rows)\n",
    "        \n",
    "        row_loop += 1\n",
    "    end\n",
    "    rows = sort(collect(rows))\n",
    "    \n",
    "    # detect the position of columns given we know the rows\n",
    "    cols = Set(1:sx)\n",
    "    for i in 1:length(rows)-1\n",
    "        test_row = floor(Int, (rows[i] + rows[i+1])/2)\n",
    "        pot_cols = []\n",
    "        rising = false\n",
    "        for i in 1:sx\n",
    "            if edges_mat[test_row,i] > thr && !rising && ((length(pot_cols) == 0) || (i - last(pot_cols) > 4))\n",
    "                push!(pot_cols,i)\n",
    "                rising = true\n",
    "            elseif edges_mat[test_row,i] <= thr && rising\n",
    "                rising = false\n",
    "            end\n",
    "        end\n",
    "        cols = intersect(cols,pot_cols)\n",
    "    end\n",
    "    cols = sort(collect(cols))\n",
    "    \n",
    "    return rows, cols\n",
    "    \n",
    "end"
   ]
  },
  {
   "cell_type": "markdown",
   "metadata": {},
   "source": [
    "This function converts problem into a matrix form, given grid locations from `detect_board`."
   ]
  },
  {
   "cell_type": "code",
   "execution_count": 11,
   "metadata": {},
   "outputs": [
    {
     "data": {
      "text/plain": [
       "get_problem (generic function with 1 method)"
      ]
     },
     "execution_count": 11,
     "metadata": {},
     "output_type": "execute_result"
    }
   ],
   "source": [
    "# Input: two colours in XYZ (closely related to human perception colours)\n",
    "# Output: similarity index for colours\n",
    "function colour_similar(c1, c2, thr=0.05)\n",
    "    return sqrt((c1.x - c2.x)^2 + (c1.y - c2.y)^2 + (c1.z - c2.z)^2) < 0.05\n",
    "end\n",
    "\n",
    "# Input: image and colour similar threshold (arbitrary)\n",
    "# Output: array of the problem, colours of each pair of starting points, and size of problem\n",
    "function get_problem(img)\n",
    "    \n",
    "    rows, cols = detect_board(img)\n",
    "    xsize = length(rows)-1\n",
    "    ysize = length(cols)-1\n",
    "    problem = zeros(Int, (xsize,ysize))\n",
    "    colours = []\n",
    "    colour_count = 0\n",
    "    \n",
    "    for x in 1:xsize\n",
    "        for y in 1:ysize\n",
    "            xco = floor(Int, (rows[x] + rows[x+1])/2)\n",
    "            yco = floor(Int, (cols[y] + cols[y+1])/2)\n",
    "            c = img[xco,yco]\n",
    "            if convert(HSV,c).v > 0.2  # not part of black background\n",
    "                c = convert(XYZ,c)\n",
    "                new_colour = true\n",
    "                for i in 1:colour_count\n",
    "                    if colour_similar(c, colours[i])\n",
    "                        new_colour = false\n",
    "                        problem[x,y] = i\n",
    "                    end\n",
    "                end\n",
    "                if new_colour\n",
    "                    push!(colours, c)\n",
    "                    colour_count += 1\n",
    "                    problem[x,y] = colour_count\n",
    "                end\n",
    "            end\n",
    "        end\n",
    "    end\n",
    "    \n",
    "    convert(Array{ColorTypes.RGB4{FixedPointNumbers.Normed{UInt8,8}},1},colours)\n",
    "    \n",
    "    return problem, colours, rows, cols\n",
    "    \n",
    "end"
   ]
  },
  {
   "cell_type": "markdown",
   "metadata": {},
   "source": [
    "This function takes the solution from `find_answer` and draws it out on top of a given image."
   ]
  },
  {
   "cell_type": "code",
   "execution_count": 86,
   "metadata": {},
   "outputs": [
    {
     "data": {
      "text/plain": [
       "draw_solution (generic function with 3 methods)"
      ]
     },
     "execution_count": 86,
     "metadata": {},
     "output_type": "execute_result"
    }
   ],
   "source": [
    "function draw_solution(img, img_filename, rows, cols, board_ans, hedges_ans, vedges_ans, colours)\n",
    "    \n",
    "    fig = figure()\n",
    "    ax = fig.add_subplot(111)\n",
    "    \n",
    "    imgplot = ax.imshow(imread(img_filename))\n",
    "    thickness = (size(img)[2]) * 0.07 / (length(cols)-1)\n",
    "    \n",
    "    xcos = [floor(Int, (rows[i+1] + rows[i])/2) for i in 1:length(rows)-1]\n",
    "    ycos = [floor(Int, (cols[i+1] + cols[i])/2) for i in 1:length(cols)-1]\n",
    "    \n",
    "    for x in 1:length(xcos)\n",
    "        for y in 1:length(ycos)\n",
    "            ci = board_ans[x,y]\n",
    "            c = convert(RGB, colours[ci])\n",
    "            if (x+1 <= length(xcos)) && hedges_ans[x,y,ci] == 1\n",
    "                ax.plot([ycos[y],ycos[y]],[xcos[x],xcos[x+1]],linewidth=thickness,color=(c.r,c.g,c.b))\n",
    "            end\n",
    "            if (y+1 <= length(ycos)) && vedges_ans[x,y,ci] == 1\n",
    "                ax.plot([ycos[y],ycos[y+1]],[xcos[x],xcos[x]],linewidth=thickness,color=(c.r,c.g,c.b))\n",
    "            end\n",
    "        end\n",
    "    end\n",
    "    \n",
    "    return fig\n",
    "    \n",
    "end"
   ]
  },
  {
   "cell_type": "markdown",
   "metadata": {},
   "source": [
    "This is the function which is a combination of everything above."
   ]
  },
  {
   "cell_type": "code",
   "execution_count": 73,
   "metadata": {},
   "outputs": [
    {
     "data": {
      "text/plain": [
       "flows_solver (generic function with 1 method)"
      ]
     },
     "execution_count": 73,
     "metadata": {},
     "output_type": "execute_result"
    }
   ],
   "source": [
    "# Input: filename\n",
    "# Output: the solution\n",
    "function flows_solver(img_filename)\n",
    "    \n",
    "    img = load(img_filename)\n",
    "    \n",
    "    prob, colours, rows, cols = get_problem(img)\n",
    "    \n",
    "    board_ans, h_ans, v_ans = find_answer(prob)\n",
    "    \n",
    "    imgplot = draw_solution(img, img_filename, rows, cols, board_ans, h_ans, v_ans, colours)\n",
    "    \n",
    "    return imgplot\n",
    "    \n",
    "end"
   ]
  },
  {
   "cell_type": "markdown",
   "metadata": {},
   "source": [
    "## Demo"
   ]
  },
  {
   "cell_type": "code",
   "execution_count": 101,
   "metadata": {},
   "outputs": [
    {
     "data": {
      "image/png": "[encoded data removed]",
      "text/plain": [
       "Figure(PyObject <Figure size 640x480 with 1 Axes>)"
      ]
     },
     "metadata": {},
     "output_type": "display_data"
    },
    {
     "data": {
      "text/plain": [
       "PyObject <matplotlib.image.AxesImage object at 0x150f5e470>"
      ]
     },
     "execution_count": 101,
     "metadata": {},
     "output_type": "execute_result"
    }
   ],
   "source": [
    "img_filename = \"test4.png\"\n",
    "imshow(imread(img_filename), interpolation=\"nearest\")"
   ]
  },
  {
   "cell_type": "code",
   "execution_count": 102,
   "metadata": {},
   "outputs": [
    {
     "data": {
      "image/png": "[encoded data removed]",
      "text/plain": [
       "Figure(PyObject <Figure size 640x480 with 1 Axes>)"
      ]
     },
     "metadata": {},
     "output_type": "display_data"
    },
    {
     "name": "stdout",
     "output_type": "stream",
     "text": [
      "1721.324444 seconds (1.76 M allocations: 189.018 MiB, 0.02% gc time)\n"
     ]
    },
    {
     "data": {
      "image/png": "[encoded data removed]",
      "text/plain": [
       "Figure(PyObject <Figure size 640x480 with 1 Axes>)"
      ]
     },
     "execution_count": 102,
     "metadata": {},
     "output_type": "execute_result"
    }
   ],
   "source": [
    "@time flows_solver(img_filename)"
   ]
  },
  {
   "cell_type": "code",
   "execution_count": 94,
   "metadata": {},
   "outputs": [
    {
     "name": "stdout",
     "output_type": "stream",
     "text": [
      "  0.055511 seconds (172.60 k allocations: 6.863 MiB)\n"
     ]
    },
    {
     "data": {
      "text/plain": [
       "6×5 Array{Int8,2}:\n",
       " 1  1  1  1  1\n",
       " 2  3  3  3  3\n",
       " 2  3  4  4  4\n",
       " 2  3  3  3  3\n",
       " 2  5  5  5  3\n",
       " 6  6  6  6  6"
      ]
     },
     "execution_count": 94,
     "metadata": {},
     "output_type": "execute_result"
    }
   ],
   "source": [
    "@time board_ans, h_ans, v_ans = find_answer([\n",
    "        1 0 0 0 1;\n",
    "        2 0 0 0 3;\n",
    "        0 0 4 0 4;\n",
    "        0 0 0 0 0;\n",
    "        2 5 0 5 3;\n",
    "        6 0 0 0 6\n",
    "        ])\n",
    "\n",
    "board_ans"
   ]
  },
  {
   "cell_type": "code",
   "execution_count": 95,
   "metadata": {},
   "outputs": [
    {
     "data": {
      "text/plain": [
       "3-dimensional DenseAxisArray{Float64,3,...} with index sets:\n",
       "    Dimension 1, 0:6\n",
       "    Dimension 2, 0:6\n",
       "    Dimension 3, 1:6\n",
       "And data, a 7×7×6 Array{Float64,3}:\n",
       "[:, :, 1] =\n",
       " 0.0  0.0  0.0  0.0  0.0  0.0  0.0\n",
       " 0.0  0.0  0.0  0.0  0.0  0.0  0.0\n",
       " 0.0  0.0  0.0  0.0  0.0  0.0  0.0\n",
       " 0.0  0.0  0.0  0.0  0.0  0.0  0.0\n",
       " 0.0  0.0  0.0  0.0  0.0  0.0  0.0\n",
       " 0.0  0.0  0.0  0.0  0.0  0.0  0.0\n",
       " 0.0  0.0  0.0  0.0  0.0  0.0  0.0\n",
       "\n",
       "[:, :, 2] =\n",
       " 0.0  0.0  0.0  0.0  0.0  0.0  0.0\n",
       " 0.0  0.0  0.0  0.0  0.0  0.0  0.0\n",
       " 0.0  1.0  0.0  0.0  0.0  0.0  0.0\n",
       " 0.0  1.0  0.0  0.0  0.0  0.0  0.0\n",
       " 0.0  1.0  0.0  0.0  0.0  0.0  0.0\n",
       " 0.0  0.0  0.0  0.0  0.0  0.0  0.0\n",
       " 0.0  0.0  0.0  0.0  0.0  0.0  0.0\n",
       "\n",
       "[:, :, 3] =\n",
       " 0.0  0.0  0.0  0.0  0.0  0.0  0.0\n",
       " 0.0  0.0  0.0  0.0  0.0  0.0  0.0\n",
       " 0.0  0.0  1.0  0.0  0.0  0.0  0.0\n",
       " 0.0  0.0  1.0  0.0  0.0  0.0  0.0\n",
       " 0.0  0.0  0.0  0.0  0.0  1.0  0.0\n",
       " 0.0  0.0  0.0  0.0  0.0  0.0  0.0\n",
       " 0.0  0.0  0.0  0.0  0.0  0.0  0.0\n",
       "\n",
       "[:, :, 4] =\n",
       " 0.0  0.0  0.0  0.0  0.0  0.0  0.0\n",
       " 0.0  0.0  0.0  0.0  0.0  0.0  0.0\n",
       " 0.0  0.0  0.0  0.0  0.0  0.0  0.0\n",
       " 0.0  0.0  0.0  0.0  0.0  0.0  0.0\n",
       " 0.0  0.0  0.0  0.0  0.0  0.0  0.0\n",
       " 0.0  0.0  0.0  0.0  0.0  0.0  0.0\n",
       " 0.0  0.0  0.0  0.0  0.0  0.0  0.0\n",
       "\n",
       "[:, :, 5] =\n",
       " 0.0  0.0  0.0  0.0  0.0  0.0  0.0\n",
       " 0.0  0.0  0.0  0.0  0.0  0.0  0.0\n",
       " 0.0  0.0  0.0  0.0  0.0  0.0  0.0\n",
       " 0.0  0.0  0.0  0.0  0.0  0.0  0.0\n",
       " 0.0  0.0  0.0  0.0  0.0  0.0  0.0\n",
       " 0.0  0.0  0.0  0.0  0.0  0.0  0.0\n",
       " 0.0  0.0  0.0  0.0  0.0  0.0  0.0\n",
       "\n",
       "[:, :, 6] =\n",
       " 0.0  0.0  0.0  0.0  0.0  0.0  0.0\n",
       " 0.0  0.0  0.0  0.0  0.0  0.0  0.0\n",
       " 0.0  0.0  0.0  0.0  0.0  0.0  0.0\n",
       " 0.0  0.0  0.0  0.0  0.0  0.0  0.0\n",
       " 0.0  0.0  0.0  0.0  0.0  0.0  0.0\n",
       " 0.0  0.0  0.0  0.0  0.0  0.0  0.0\n",
       " 0.0  0.0  0.0  0.0  0.0  0.0  0.0"
      ]
     },
     "execution_count": 95,
     "metadata": {},
     "output_type": "execute_result"
    }
   ],
   "source": [
    "h_ans"
   ]
  },
  {
   "cell_type": "code",
   "execution_count": 96,
   "metadata": {},
   "outputs": [
    {
     "data": {
      "text/plain": [
       "3-dimensional DenseAxisArray{Float64,3,...} with index sets:\n",
       "    Dimension 1, 0:7\n",
       "    Dimension 2, 0:5\n",
       "    Dimension 3, 1:6\n",
       "And data, a 8×6×6 Array{Float64,3}:\n",
       "[:, :, 1] =\n",
       " 0.0  0.0  0.0  0.0  0.0  0.0\n",
       " 0.0  1.0  1.0  1.0  1.0  0.0\n",
       " 0.0  0.0  0.0  0.0  0.0  0.0\n",
       " 0.0  0.0  0.0  0.0  0.0  0.0\n",
       " 0.0  0.0  0.0  0.0  0.0  0.0\n",
       " 0.0  0.0  0.0  0.0  0.0  0.0\n",
       " 0.0  0.0  0.0  0.0  0.0  0.0\n",
       " 0.0  0.0  0.0  0.0  0.0  0.0\n",
       "\n",
       "[:, :, 2] =\n",
       " 0.0  0.0  0.0  0.0  0.0  0.0\n",
       " 0.0  0.0  0.0  0.0  0.0  0.0\n",
       " 0.0  0.0  0.0  0.0  0.0  0.0\n",
       " 0.0  0.0  0.0  0.0  0.0  0.0\n",
       " 0.0  0.0  0.0  0.0  0.0  0.0\n",
       " 0.0  0.0  0.0  0.0  0.0  0.0\n",
       " 0.0  0.0  0.0  0.0  0.0  0.0\n",
       " 0.0  0.0  0.0  0.0  0.0  0.0\n",
       "\n",
       "[:, :, 3] =\n",
       " 0.0  0.0  0.0  0.0  0.0  0.0\n",
       " 0.0  0.0  0.0  0.0  0.0  0.0\n",
       " 0.0  0.0  1.0  1.0  1.0  0.0\n",
       " 0.0  0.0  0.0  0.0  0.0  0.0\n",
       " 0.0  0.0  1.0  1.0  1.0  0.0\n",
       " 0.0  0.0  0.0  0.0  0.0  0.0\n",
       " 0.0  0.0  0.0  0.0  0.0  0.0\n",
       " 0.0  0.0  0.0  0.0  0.0  0.0\n",
       "\n",
       "[:, :, 4] =\n",
       " 0.0  0.0  0.0  0.0  0.0  0.0\n",
       " 0.0  0.0  0.0  0.0  0.0  0.0\n",
       " 0.0  0.0  0.0  0.0  0.0  0.0\n",
       " 0.0  0.0  0.0  1.0  1.0  0.0\n",
       " 0.0  0.0  0.0  0.0  0.0  0.0\n",
       " 0.0  0.0  0.0  0.0  0.0  0.0\n",
       " 0.0  0.0  0.0  0.0  0.0  0.0\n",
       " 0.0  0.0  0.0  0.0  0.0  0.0\n",
       "\n",
       "[:, :, 5] =\n",
       " 0.0  0.0  0.0  0.0  0.0  0.0\n",
       " 0.0  0.0  0.0  0.0  0.0  0.0\n",
       " 0.0  0.0  0.0  0.0  0.0  0.0\n",
       " 0.0  0.0  0.0  0.0  0.0  0.0\n",
       " 0.0  0.0  0.0  0.0  0.0  0.0\n",
       " 0.0  0.0  1.0  1.0  0.0  0.0\n",
       " 0.0  0.0  0.0  0.0  0.0  0.0\n",
       " 0.0  0.0  0.0  0.0  0.0  0.0\n",
       "\n",
       "[:, :, 6] =\n",
       " 0.0  0.0  0.0  0.0  0.0  0.0\n",
       " 0.0  0.0  0.0  0.0  0.0  0.0\n",
       " 0.0  0.0  0.0  0.0  0.0  0.0\n",
       " 0.0  0.0  0.0  0.0  0.0  0.0\n",
       " 0.0  0.0  0.0  0.0  0.0  0.0\n",
       " 0.0  0.0  0.0  0.0  0.0  0.0\n",
       " 0.0  1.0  1.0  1.0  1.0  0.0\n",
       " 0.0  0.0  0.0  0.0  0.0  0.0"
      ]
     },
     "execution_count": 96,
     "metadata": {},
     "output_type": "execute_result"
    }
   ],
   "source": [
    "v_ans"
   ]
  },
  {
   "cell_type": "code",
   "execution_count": null,
   "metadata": {},
   "outputs": [],
   "source": []
  }
 ],
 "metadata": {
  "kernelspec": {
   "display_name": "Julia 1.0.4",
   "language": "julia",
   "name": "julia-1.0"
  },
  "language_info": {
   "file_extension": ".jl",
   "mimetype": "application/julia",
   "name": "julia",
   "version": "1.0.4"
  }
 },
 "nbformat": 4,
 "nbformat_minor": 2
}
